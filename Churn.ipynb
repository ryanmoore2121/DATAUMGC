{
  "nbformat": 4,
  "nbformat_minor": 0,
  "metadata": {
    "colab": {
      "provenance": []
    },
    "kernelspec": {
      "name": "python3",
      "display_name": "Python 3"
    },
    "language_info": {
      "name": "python"
    }
  },
  "cells": [
    {
      "cell_type": "code",
      "execution_count": 416,
      "metadata": {
        "id": "lwoWpOhtPbJE"
      },
      "outputs": [],
      "source": [
        "#Linear SVM Using Spark MLlib\n",
        "from pyspark.sql import SparkSession\n",
        "from pyspark.ml.classification import LinearSVC\n",
        "from pyspark.ml.evaluation import MulticlassClassificationEvaluator\n",
        "from pyspark.ml.feature import VectorAssembler, StandardScaler\n",
        "from pyspark.sql.functions import col, when\n",
        "from pyspark.ml import Pipeline\n",
        "from pyspark.sql import functions as F\n"
      ]
    },
    {
      "cell_type": "code",
      "source": [
        "#Initialize Spark Sesson\n",
        "spark = SparkSession.builder.appName(\"ChurnSVM\").getOrCreate()"
      ],
      "metadata": {
        "id": "jTEO-cYzQKWe"
      },
      "execution_count": 417,
      "outputs": []
    },
    {
      "cell_type": "code",
      "source": [
        "#Load dataset\n",
        "churn = spark.read.csv(\"/Cell Phone Company Churn data-2.csv\", header=True, inferSchema=True)\n",
        "\n",
        "#Replace target so that True = 1 and False = 0\n",
        "churn = churn.withColumn(\"churn\", when(col(\"churn\")== \"TRUE\", 1).otherwise(0))\n",
        "churn.groupBy(\"churn\").count().show()"
      ],
      "metadata": {
        "id": "8iScWIgHQ2AZ",
        "colab": {
          "base_uri": "https://localhost:8080/"
        },
        "outputId": "b6150359-2e33-447a-e8d0-53c43943802b"
      },
      "execution_count": 418,
      "outputs": [
        {
          "output_type": "stream",
          "name": "stdout",
          "text": [
            "+-----+-----+\n",
            "|churn|count|\n",
            "+-----+-----+\n",
            "|    1|  483|\n",
            "|    0| 2850|\n",
            "+-----+-----+\n",
            "\n"
          ]
        }
      ]
    },
    {
      "cell_type": "code",
      "source": [
        "# Separate the original DataFrame into minority and majority classes\n",
        "minority_df = churn.filter(col(\"churn\") == 1)\n",
        "majority_df = churn.filter(col(\"churn\") == 0)\n",
        "\n",
        "# Get the counts for the sampling fraction\n",
        "minority_count = minority_df.count()\n",
        "majority_count = majority_df.count()\n",
        "\n",
        "# Calculate the oversampling ratio\n",
        "oversample_ratio = majority_count / minority_count\n",
        "\n",
        "# Oversample the minority class by duplicating rows\n",
        "minority_oversampled_df = minority_df.sample(fraction=oversample_ratio, withReplacement=True, seed=42)\n",
        "\n",
        "# Combine the oversampled minority class with the original majority class\n",
        "balanced_data = majority_df.union(minority_oversampled_df)\n",
        "\n",
        "# Show the new counts to confirm the dataset is balanced\n",
        "print(\"Balanced dataset counts:\")\n",
        "balanced_data.groupBy(\"churn\").count().show()"
      ],
      "metadata": {
        "colab": {
          "base_uri": "https://localhost:8080/"
        },
        "id": "fSKbgjiecFAj",
        "outputId": "2bb76168-48ec-4d35-b73c-fb79bcfee983"
      },
      "execution_count": 419,
      "outputs": [
        {
          "output_type": "stream",
          "name": "stdout",
          "text": [
            "Balanced dataset counts:\n",
            "+-----+-----+\n",
            "|churn|count|\n",
            "+-----+-----+\n",
            "|    0| 2850|\n",
            "|    1| 2894|\n",
            "+-----+-----+\n",
            "\n"
          ]
        }
      ]
    },
    {
      "cell_type": "code",
      "source": [
        "#Features\n",
        "feature = balanced_data.columns[:-1]\n",
        "feature = [col for col in feature if col not in [\"state\",\"phone number\", \"international plan\", \"voice mail plan\"]]\n",
        "assembler = VectorAssembler(inputCols=feature, outputCol=\"features\")"
      ],
      "metadata": {
        "id": "WJAeFouvYq_I"
      },
      "execution_count": 420,
      "outputs": []
    },
    {
      "cell_type": "code",
      "source": [
        "#Pipeline for Preprocessing\n",
        "\n",
        "scaler = StandardScaler(inputCol=\"features\", outputCol=\"scaledFeatures\")\n",
        "pipeline = Pipeline(stages=[assembler, scaler])"
      ],
      "metadata": {
        "id": "Q4qOmsjxTFHy"
      },
      "execution_count": 421,
      "outputs": []
    },
    {
      "cell_type": "code",
      "source": [
        "#Fit the Pipeline\n",
        "\n",
        "pipelineModel = pipeline.fit(balanced_data)\n",
        "processed = pipelineModel.transform(balanced_data)"
      ],
      "metadata": {
        "id": "3aJhLUbQTNMu"
      },
      "execution_count": 422,
      "outputs": []
    },
    {
      "cell_type": "code",
      "source": [
        "#Split 80:20\n",
        "\n",
        "train, test = processed.randomSplit([0.8, 0.2], seed=42)\n"
      ],
      "metadata": {
        "id": "gEe02p7hTVOs"
      },
      "execution_count": 423,
      "outputs": []
    },
    {
      "cell_type": "code",
      "source": [
        "#Create Linear SVM\n",
        "\n",
        "lsvs = LinearSVC(featuresCol=\"scaledFeatures\", labelCol=\"churn\", maxIter=10, regParam=0.1)\n",
        "model = lsvs.fit(train)"
      ],
      "metadata": {
        "id": "WWWCF1UfTkCi"
      },
      "execution_count": 424,
      "outputs": []
    },
    {
      "cell_type": "code",
      "source": [
        "#Make Predictions\n",
        "train_predict = model.transform(train)\n",
        "test_predict = model.transform(test)"
      ],
      "metadata": {
        "id": "NO3vLoeeT8iH"
      },
      "execution_count": 425,
      "outputs": []
    },
    {
      "cell_type": "code",
      "source": [
        "#Function to calculate metrics\n",
        "\n",
        "def calculate_metrics(predictions):\n",
        "  tp = predictions.filter((col(\"prediction\") == 1) & (col(\"churn\") == 1)).count()\n",
        "  tn = predictions.filter((col(\"prediction\") == 0) & (col(\"churn\") == 0)).count()\n",
        "  fp = predictions.filter((col(\"prediction\") == 1) & (col(\"churn\") == 0)).count()\n",
        "  fn = predictions.filter((col(\"prediction\") == 0) & (col(\"churn\") == 1)).count()\n",
        "  #Calculate Metrics\n",
        "  accuracy = (tp + tn) / (tp + tn + fp + fn)\n",
        "  sensitivity = tp / (tp + fn) if (tp + fn) != 0 else 0\n",
        "  specificity = tn / (tn + fp) if (tn + fp) != 0 else 0\n",
        "  balanced_accuracy = (sensitivity + specificity) / 2\n",
        "  return accuracy, sensitivity, specificity, balanced_accuracy"
      ],
      "metadata": {
        "id": "LR4RZsxvUFqA"
      },
      "execution_count": 426,
      "outputs": []
    },
    {
      "cell_type": "code",
      "source": [
        "# Calculate metrics for training data\n",
        "\n",
        "train_accuracy, train_sensitivity, train_specificity, train_balanced_accuracy = calculate_metrics(train_predict)\n",
        "\n",
        "print(f\"Training Accuracy: {train_accuracy}\")\n",
        "\n",
        "print(f\"Training Sensitivity: {train_sensitivity}\")\n",
        "\n",
        "print(f\"Training Specificity: {train_specificity}\")\n",
        "\n",
        "print(f\"Training Balanced Accuracy: {train_balanced_accuracy}\")"
      ],
      "metadata": {
        "colab": {
          "base_uri": "https://localhost:8080/"
        },
        "id": "GDrZHQKAURim",
        "outputId": "050ee160-82d0-407f-d86b-162677724d4b"
      },
      "execution_count": 427,
      "outputs": [
        {
          "output_type": "stream",
          "name": "stdout",
          "text": [
            "Training Accuracy: 0.7177177177177178\n",
            "Training Sensitivity: 0.7182675814751286\n",
            "Training Specificity: 0.7171673819742489\n",
            "Training Balanced Accuracy: 0.7177174817246887\n"
          ]
        }
      ]
    },
    {
      "cell_type": "code",
      "source": [
        "# Calculate metrics for test data\n",
        "\n",
        "test_accuracy, test_sensitivity, test_specificity, test_balanced_accuracy = calculate_metrics(test_predict)\n",
        "\n",
        "print(f\"Test Accuracy: {test_accuracy}\")\n",
        "\n",
        "print(f\"Test Sensitivity: {test_sensitivity}\")\n",
        "\n",
        "print(f\"Test Specificity: {test_specificity}\")\n",
        "\n",
        "print(f\"Test Balanced Accuracy: {test_balanced_accuracy}\")\n",
        "\n"
      ],
      "metadata": {
        "colab": {
          "base_uri": "https://localhost:8080/"
        },
        "id": "-TjiQqVlVMst",
        "outputId": "e7f8e1eb-6b1b-44eb-e5a3-6bc1055609f4"
      },
      "execution_count": 428,
      "outputs": [
        {
          "output_type": "stream",
          "name": "stdout",
          "text": [
            "Test Accuracy: 0.7024029574861368\n",
            "Test Sensitivity: 0.708185053380783\n",
            "Test Specificity: 0.6961538461538461\n",
            "Test Balanced Accuracy: 0.7021694497673145\n"
          ]
        }
      ]
    },
    {
      "cell_type": "code",
      "source": [
        "# Function to display confusion matrix\n",
        "\n",
        "def display_confusion_matrix(predictions):\n",
        "  confusion_matrix = predictions.crosstab(\"Churn\", \"prediction\")\n",
        "  confusion_matrix.show()\n",
        "\n",
        "print(\"Training Confusion Matrix:\")\n",
        "display_confusion_matrix(train_predict)\n",
        "\n",
        "\n",
        "\n",
        "print(\"Test Confusion Matrix:\")\n",
        "display_confusion_matrix(test_predict)"
      ],
      "metadata": {
        "colab": {
          "base_uri": "https://localhost:8080/"
        },
        "id": "-C9FlV_kVmwc",
        "outputId": "693f290f-9b87-4965-906d-dac06c82df32"
      },
      "execution_count": 429,
      "outputs": [
        {
          "output_type": "stream",
          "name": "stdout",
          "text": [
            "Training Confusion Matrix:\n",
            "+----------------+----+----+\n",
            "|Churn_prediction| 0.0| 1.0|\n",
            "+----------------+----+----+\n",
            "|               0|1671| 659|\n",
            "|               1| 657|1675|\n",
            "+----------------+----+----+\n",
            "\n",
            "Test Confusion Matrix:\n",
            "+----------------+---+---+\n",
            "|Churn_prediction|0.0|1.0|\n",
            "+----------------+---+---+\n",
            "|               0|362|158|\n",
            "|               1|164|398|\n",
            "+----------------+---+---+\n",
            "\n"
          ]
        }
      ]
    },
    {
      "cell_type": "code",
      "source": [
        "# Optional: Display a sample of predictions\n",
        "\n",
        "test_predict.select(\"Churn\", \"prediction\", \"scaledFeatures\").show(5)\n",
        "\n",
        "# Stop the Spark session\n",
        "\n",
        "spark.stop()\n",
        "\n"
      ],
      "metadata": {
        "colab": {
          "base_uri": "https://localhost:8080/"
        },
        "id": "UHxfpfT6V4aF",
        "outputId": "0bca5225-28ca-43cb-bf18-4644ee51961b"
      },
      "execution_count": 430,
      "outputs": [
        {
          "output_type": "stream",
          "name": "stdout",
          "text": [
            "+-----+----------+--------------------+\n",
            "|Churn|prediction|      scaledFeatures|\n",
            "+-----+----------+--------------------+\n",
            "|    0|       0.0|[1.02772891106296...|\n",
            "|    0|       1.0|[1.30346105793351...|\n",
            "|    0|       0.0|[1.30346105793351...|\n",
            "|    0|       1.0|[1.52906008719123...|\n",
            "|    0|       1.0|[1.95519158690026...|\n",
            "+-----+----------+--------------------+\n",
            "only showing top 5 rows\n",
            "\n"
          ]
        }
      ]
    },
    {
      "cell_type": "code",
      "source": [
        "#Non Linear SVM Using SciPy (scikit-learn)\n",
        "import numpy as np\n",
        "import pandas as pd\n",
        "from sklearn.svm import SVC # Corrected import\n",
        "from imblearn.over_sampling import SMOTE\n",
        "from collections import Counter\n",
        "from sklearn.metrics import confusion_matrix, accuracy_score, balanced_accuracy_score, recall_score, precision_score"
      ],
      "metadata": {
        "id": "jeRA6jnvWcMz"
      },
      "execution_count": 431,
      "outputs": []
    },
    {
      "cell_type": "code",
      "source": [
        "#load the dataset\n",
        "churn = pd.read_csv(\"/Cell Phone Company Churn data-2.csv\")"
      ],
      "metadata": {
        "id": "1rSHcZsVgFL8"
      },
      "execution_count": 432,
      "outputs": []
    },
    {
      "cell_type": "code",
      "source": [
        "#Split\n",
        "X= churn.drop(['churn', 'state', 'phone number', 'international plan', 'voice mail plan'], axis=1)\n",
        "y= churn['churn']"
      ],
      "metadata": {
        "id": "GhDRiV44eFV_"
      },
      "execution_count": 433,
      "outputs": []
    },
    {
      "cell_type": "code",
      "source": [
        "# Split the data into training and testing sets\n",
        "\n",
        "from sklearn.model_selection import train_test_split\n",
        "\n",
        "X_train, X_test, y_train, y_test = train_test_split(X, y, test_size=0.2, random_state=42)\n",
        "\n",
        "#Balance the data\n",
        "smote = SMOTE(random_state=42)\n",
        "X_train_resampled, y_train_resampled = smote.fit_resample(X_train, y_train)\n",
        "\n",
        "print(\"Resampled training dataset shape:\", Counter(y_train_resampled))"
      ],
      "metadata": {
        "id": "LjLc6MFSg59n",
        "colab": {
          "base_uri": "https://localhost:8080/"
        },
        "outputId": "cee58669-8b89-466a-9d7f-92ea9cc1e72e"
      },
      "execution_count": 434,
      "outputs": [
        {
          "output_type": "stream",
          "name": "stdout",
          "text": [
            "Resampled training dataset shape: Counter({False: 2284, True: 2284})\n"
          ]
        }
      ]
    },
    {
      "cell_type": "code",
      "source": [
        "# Standardize the features\n",
        "\n",
        "from sklearn.preprocessing import StandardScaler\n",
        "\n",
        "scaler = StandardScaler()\n",
        "X_train_scaled = scaler.fit_transform(X_train_resampled)\n",
        "X_test_scaled = scaler.transform(X_test)\n",
        "\n"
      ],
      "metadata": {
        "id": "oXvQMzM7hCQf"
      },
      "execution_count": 435,
      "outputs": []
    },
    {
      "cell_type": "code",
      "source": [
        "# Train a non-linear SVM (SVC) model\n",
        "model = SVC(kernel='rbf')\n",
        "model.fit(X_train_scaled, y_train_resampled)\n",
        "\n"
      ],
      "metadata": {
        "colab": {
          "base_uri": "https://localhost:8080/",
          "height": 80
        },
        "id": "dMwDA1jFhFJ3",
        "outputId": "7d25de90-a355-454a-9bf1-3a973a9223a4"
      },
      "execution_count": 436,
      "outputs": [
        {
          "output_type": "execute_result",
          "data": {
            "text/plain": [
              "SVC()"
            ],
            "text/html": [
              "<style>#sk-container-id-13 {\n",
              "  /* Definition of color scheme common for light and dark mode */\n",
              "  --sklearn-color-text: #000;\n",
              "  --sklearn-color-text-muted: #666;\n",
              "  --sklearn-color-line: gray;\n",
              "  /* Definition of color scheme for unfitted estimators */\n",
              "  --sklearn-color-unfitted-level-0: #fff5e6;\n",
              "  --sklearn-color-unfitted-level-1: #f6e4d2;\n",
              "  --sklearn-color-unfitted-level-2: #ffe0b3;\n",
              "  --sklearn-color-unfitted-level-3: chocolate;\n",
              "  /* Definition of color scheme for fitted estimators */\n",
              "  --sklearn-color-fitted-level-0: #f0f8ff;\n",
              "  --sklearn-color-fitted-level-1: #d4ebff;\n",
              "  --sklearn-color-fitted-level-2: #b3dbfd;\n",
              "  --sklearn-color-fitted-level-3: cornflowerblue;\n",
              "\n",
              "  /* Specific color for light theme */\n",
              "  --sklearn-color-text-on-default-background: var(--sg-text-color, var(--theme-code-foreground, var(--jp-content-font-color1, black)));\n",
              "  --sklearn-color-background: var(--sg-background-color, var(--theme-background, var(--jp-layout-color0, white)));\n",
              "  --sklearn-color-border-box: var(--sg-text-color, var(--theme-code-foreground, var(--jp-content-font-color1, black)));\n",
              "  --sklearn-color-icon: #696969;\n",
              "\n",
              "  @media (prefers-color-scheme: dark) {\n",
              "    /* Redefinition of color scheme for dark theme */\n",
              "    --sklearn-color-text-on-default-background: var(--sg-text-color, var(--theme-code-foreground, var(--jp-content-font-color1, white)));\n",
              "    --sklearn-color-background: var(--sg-background-color, var(--theme-background, var(--jp-layout-color0, #111)));\n",
              "    --sklearn-color-border-box: var(--sg-text-color, var(--theme-code-foreground, var(--jp-content-font-color1, white)));\n",
              "    --sklearn-color-icon: #878787;\n",
              "  }\n",
              "}\n",
              "\n",
              "#sk-container-id-13 {\n",
              "  color: var(--sklearn-color-text);\n",
              "}\n",
              "\n",
              "#sk-container-id-13 pre {\n",
              "  padding: 0;\n",
              "}\n",
              "\n",
              "#sk-container-id-13 input.sk-hidden--visually {\n",
              "  border: 0;\n",
              "  clip: rect(1px 1px 1px 1px);\n",
              "  clip: rect(1px, 1px, 1px, 1px);\n",
              "  height: 1px;\n",
              "  margin: -1px;\n",
              "  overflow: hidden;\n",
              "  padding: 0;\n",
              "  position: absolute;\n",
              "  width: 1px;\n",
              "}\n",
              "\n",
              "#sk-container-id-13 div.sk-dashed-wrapped {\n",
              "  border: 1px dashed var(--sklearn-color-line);\n",
              "  margin: 0 0.4em 0.5em 0.4em;\n",
              "  box-sizing: border-box;\n",
              "  padding-bottom: 0.4em;\n",
              "  background-color: var(--sklearn-color-background);\n",
              "}\n",
              "\n",
              "#sk-container-id-13 div.sk-container {\n",
              "  /* jupyter's `normalize.less` sets `[hidden] { display: none; }`\n",
              "     but bootstrap.min.css set `[hidden] { display: none !important; }`\n",
              "     so we also need the `!important` here to be able to override the\n",
              "     default hidden behavior on the sphinx rendered scikit-learn.org.\n",
              "     See: https://github.com/scikit-learn/scikit-learn/issues/21755 */\n",
              "  display: inline-block !important;\n",
              "  position: relative;\n",
              "}\n",
              "\n",
              "#sk-container-id-13 div.sk-text-repr-fallback {\n",
              "  display: none;\n",
              "}\n",
              "\n",
              "div.sk-parallel-item,\n",
              "div.sk-serial,\n",
              "div.sk-item {\n",
              "  /* draw centered vertical line to link estimators */\n",
              "  background-image: linear-gradient(var(--sklearn-color-text-on-default-background), var(--sklearn-color-text-on-default-background));\n",
              "  background-size: 2px 100%;\n",
              "  background-repeat: no-repeat;\n",
              "  background-position: center center;\n",
              "}\n",
              "\n",
              "/* Parallel-specific style estimator block */\n",
              "\n",
              "#sk-container-id-13 div.sk-parallel-item::after {\n",
              "  content: \"\";\n",
              "  width: 100%;\n",
              "  border-bottom: 2px solid var(--sklearn-color-text-on-default-background);\n",
              "  flex-grow: 1;\n",
              "}\n",
              "\n",
              "#sk-container-id-13 div.sk-parallel {\n",
              "  display: flex;\n",
              "  align-items: stretch;\n",
              "  justify-content: center;\n",
              "  background-color: var(--sklearn-color-background);\n",
              "  position: relative;\n",
              "}\n",
              "\n",
              "#sk-container-id-13 div.sk-parallel-item {\n",
              "  display: flex;\n",
              "  flex-direction: column;\n",
              "}\n",
              "\n",
              "#sk-container-id-13 div.sk-parallel-item:first-child::after {\n",
              "  align-self: flex-end;\n",
              "  width: 50%;\n",
              "}\n",
              "\n",
              "#sk-container-id-13 div.sk-parallel-item:last-child::after {\n",
              "  align-self: flex-start;\n",
              "  width: 50%;\n",
              "}\n",
              "\n",
              "#sk-container-id-13 div.sk-parallel-item:only-child::after {\n",
              "  width: 0;\n",
              "}\n",
              "\n",
              "/* Serial-specific style estimator block */\n",
              "\n",
              "#sk-container-id-13 div.sk-serial {\n",
              "  display: flex;\n",
              "  flex-direction: column;\n",
              "  align-items: center;\n",
              "  background-color: var(--sklearn-color-background);\n",
              "  padding-right: 1em;\n",
              "  padding-left: 1em;\n",
              "}\n",
              "\n",
              "\n",
              "/* Toggleable style: style used for estimator/Pipeline/ColumnTransformer box that is\n",
              "clickable and can be expanded/collapsed.\n",
              "- Pipeline and ColumnTransformer use this feature and define the default style\n",
              "- Estimators will overwrite some part of the style using the `sk-estimator` class\n",
              "*/\n",
              "\n",
              "/* Pipeline and ColumnTransformer style (default) */\n",
              "\n",
              "#sk-container-id-13 div.sk-toggleable {\n",
              "  /* Default theme specific background. It is overwritten whether we have a\n",
              "  specific estimator or a Pipeline/ColumnTransformer */\n",
              "  background-color: var(--sklearn-color-background);\n",
              "}\n",
              "\n",
              "/* Toggleable label */\n",
              "#sk-container-id-13 label.sk-toggleable__label {\n",
              "  cursor: pointer;\n",
              "  display: flex;\n",
              "  width: 100%;\n",
              "  margin-bottom: 0;\n",
              "  padding: 0.5em;\n",
              "  box-sizing: border-box;\n",
              "  text-align: center;\n",
              "  align-items: start;\n",
              "  justify-content: space-between;\n",
              "  gap: 0.5em;\n",
              "}\n",
              "\n",
              "#sk-container-id-13 label.sk-toggleable__label .caption {\n",
              "  font-size: 0.6rem;\n",
              "  font-weight: lighter;\n",
              "  color: var(--sklearn-color-text-muted);\n",
              "}\n",
              "\n",
              "#sk-container-id-13 label.sk-toggleable__label-arrow:before {\n",
              "  /* Arrow on the left of the label */\n",
              "  content: \"▸\";\n",
              "  float: left;\n",
              "  margin-right: 0.25em;\n",
              "  color: var(--sklearn-color-icon);\n",
              "}\n",
              "\n",
              "#sk-container-id-13 label.sk-toggleable__label-arrow:hover:before {\n",
              "  color: var(--sklearn-color-text);\n",
              "}\n",
              "\n",
              "/* Toggleable content - dropdown */\n",
              "\n",
              "#sk-container-id-13 div.sk-toggleable__content {\n",
              "  max-height: 0;\n",
              "  max-width: 0;\n",
              "  overflow: hidden;\n",
              "  text-align: left;\n",
              "  /* unfitted */\n",
              "  background-color: var(--sklearn-color-unfitted-level-0);\n",
              "}\n",
              "\n",
              "#sk-container-id-13 div.sk-toggleable__content.fitted {\n",
              "  /* fitted */\n",
              "  background-color: var(--sklearn-color-fitted-level-0);\n",
              "}\n",
              "\n",
              "#sk-container-id-13 div.sk-toggleable__content pre {\n",
              "  margin: 0.2em;\n",
              "  border-radius: 0.25em;\n",
              "  color: var(--sklearn-color-text);\n",
              "  /* unfitted */\n",
              "  background-color: var(--sklearn-color-unfitted-level-0);\n",
              "}\n",
              "\n",
              "#sk-container-id-13 div.sk-toggleable__content.fitted pre {\n",
              "  /* unfitted */\n",
              "  background-color: var(--sklearn-color-fitted-level-0);\n",
              "}\n",
              "\n",
              "#sk-container-id-13 input.sk-toggleable__control:checked~div.sk-toggleable__content {\n",
              "  /* Expand drop-down */\n",
              "  max-height: 200px;\n",
              "  max-width: 100%;\n",
              "  overflow: auto;\n",
              "}\n",
              "\n",
              "#sk-container-id-13 input.sk-toggleable__control:checked~label.sk-toggleable__label-arrow:before {\n",
              "  content: \"▾\";\n",
              "}\n",
              "\n",
              "/* Pipeline/ColumnTransformer-specific style */\n",
              "\n",
              "#sk-container-id-13 div.sk-label input.sk-toggleable__control:checked~label.sk-toggleable__label {\n",
              "  color: var(--sklearn-color-text);\n",
              "  background-color: var(--sklearn-color-unfitted-level-2);\n",
              "}\n",
              "\n",
              "#sk-container-id-13 div.sk-label.fitted input.sk-toggleable__control:checked~label.sk-toggleable__label {\n",
              "  background-color: var(--sklearn-color-fitted-level-2);\n",
              "}\n",
              "\n",
              "/* Estimator-specific style */\n",
              "\n",
              "/* Colorize estimator box */\n",
              "#sk-container-id-13 div.sk-estimator input.sk-toggleable__control:checked~label.sk-toggleable__label {\n",
              "  /* unfitted */\n",
              "  background-color: var(--sklearn-color-unfitted-level-2);\n",
              "}\n",
              "\n",
              "#sk-container-id-13 div.sk-estimator.fitted input.sk-toggleable__control:checked~label.sk-toggleable__label {\n",
              "  /* fitted */\n",
              "  background-color: var(--sklearn-color-fitted-level-2);\n",
              "}\n",
              "\n",
              "#sk-container-id-13 div.sk-label label.sk-toggleable__label,\n",
              "#sk-container-id-13 div.sk-label label {\n",
              "  /* The background is the default theme color */\n",
              "  color: var(--sklearn-color-text-on-default-background);\n",
              "}\n",
              "\n",
              "/* On hover, darken the color of the background */\n",
              "#sk-container-id-13 div.sk-label:hover label.sk-toggleable__label {\n",
              "  color: var(--sklearn-color-text);\n",
              "  background-color: var(--sklearn-color-unfitted-level-2);\n",
              "}\n",
              "\n",
              "/* Label box, darken color on hover, fitted */\n",
              "#sk-container-id-13 div.sk-label.fitted:hover label.sk-toggleable__label.fitted {\n",
              "  color: var(--sklearn-color-text);\n",
              "  background-color: var(--sklearn-color-fitted-level-2);\n",
              "}\n",
              "\n",
              "/* Estimator label */\n",
              "\n",
              "#sk-container-id-13 div.sk-label label {\n",
              "  font-family: monospace;\n",
              "  font-weight: bold;\n",
              "  display: inline-block;\n",
              "  line-height: 1.2em;\n",
              "}\n",
              "\n",
              "#sk-container-id-13 div.sk-label-container {\n",
              "  text-align: center;\n",
              "}\n",
              "\n",
              "/* Estimator-specific */\n",
              "#sk-container-id-13 div.sk-estimator {\n",
              "  font-family: monospace;\n",
              "  border: 1px dotted var(--sklearn-color-border-box);\n",
              "  border-radius: 0.25em;\n",
              "  box-sizing: border-box;\n",
              "  margin-bottom: 0.5em;\n",
              "  /* unfitted */\n",
              "  background-color: var(--sklearn-color-unfitted-level-0);\n",
              "}\n",
              "\n",
              "#sk-container-id-13 div.sk-estimator.fitted {\n",
              "  /* fitted */\n",
              "  background-color: var(--sklearn-color-fitted-level-0);\n",
              "}\n",
              "\n",
              "/* on hover */\n",
              "#sk-container-id-13 div.sk-estimator:hover {\n",
              "  /* unfitted */\n",
              "  background-color: var(--sklearn-color-unfitted-level-2);\n",
              "}\n",
              "\n",
              "#sk-container-id-13 div.sk-estimator.fitted:hover {\n",
              "  /* fitted */\n",
              "  background-color: var(--sklearn-color-fitted-level-2);\n",
              "}\n",
              "\n",
              "/* Specification for estimator info (e.g. \"i\" and \"?\") */\n",
              "\n",
              "/* Common style for \"i\" and \"?\" */\n",
              "\n",
              ".sk-estimator-doc-link,\n",
              "a:link.sk-estimator-doc-link,\n",
              "a:visited.sk-estimator-doc-link {\n",
              "  float: right;\n",
              "  font-size: smaller;\n",
              "  line-height: 1em;\n",
              "  font-family: monospace;\n",
              "  background-color: var(--sklearn-color-background);\n",
              "  border-radius: 1em;\n",
              "  height: 1em;\n",
              "  width: 1em;\n",
              "  text-decoration: none !important;\n",
              "  margin-left: 0.5em;\n",
              "  text-align: center;\n",
              "  /* unfitted */\n",
              "  border: var(--sklearn-color-unfitted-level-1) 1pt solid;\n",
              "  color: var(--sklearn-color-unfitted-level-1);\n",
              "}\n",
              "\n",
              ".sk-estimator-doc-link.fitted,\n",
              "a:link.sk-estimator-doc-link.fitted,\n",
              "a:visited.sk-estimator-doc-link.fitted {\n",
              "  /* fitted */\n",
              "  border: var(--sklearn-color-fitted-level-1) 1pt solid;\n",
              "  color: var(--sklearn-color-fitted-level-1);\n",
              "}\n",
              "\n",
              "/* On hover */\n",
              "div.sk-estimator:hover .sk-estimator-doc-link:hover,\n",
              ".sk-estimator-doc-link:hover,\n",
              "div.sk-label-container:hover .sk-estimator-doc-link:hover,\n",
              ".sk-estimator-doc-link:hover {\n",
              "  /* unfitted */\n",
              "  background-color: var(--sklearn-color-unfitted-level-3);\n",
              "  color: var(--sklearn-color-background);\n",
              "  text-decoration: none;\n",
              "}\n",
              "\n",
              "div.sk-estimator.fitted:hover .sk-estimator-doc-link.fitted:hover,\n",
              ".sk-estimator-doc-link.fitted:hover,\n",
              "div.sk-label-container:hover .sk-estimator-doc-link.fitted:hover,\n",
              ".sk-estimator-doc-link.fitted:hover {\n",
              "  /* fitted */\n",
              "  background-color: var(--sklearn-color-fitted-level-3);\n",
              "  color: var(--sklearn-color-background);\n",
              "  text-decoration: none;\n",
              "}\n",
              "\n",
              "/* Span, style for the box shown on hovering the info icon */\n",
              ".sk-estimator-doc-link span {\n",
              "  display: none;\n",
              "  z-index: 9999;\n",
              "  position: relative;\n",
              "  font-weight: normal;\n",
              "  right: .2ex;\n",
              "  padding: .5ex;\n",
              "  margin: .5ex;\n",
              "  width: min-content;\n",
              "  min-width: 20ex;\n",
              "  max-width: 50ex;\n",
              "  color: var(--sklearn-color-text);\n",
              "  box-shadow: 2pt 2pt 4pt #999;\n",
              "  /* unfitted */\n",
              "  background: var(--sklearn-color-unfitted-level-0);\n",
              "  border: .5pt solid var(--sklearn-color-unfitted-level-3);\n",
              "}\n",
              "\n",
              ".sk-estimator-doc-link.fitted span {\n",
              "  /* fitted */\n",
              "  background: var(--sklearn-color-fitted-level-0);\n",
              "  border: var(--sklearn-color-fitted-level-3);\n",
              "}\n",
              "\n",
              ".sk-estimator-doc-link:hover span {\n",
              "  display: block;\n",
              "}\n",
              "\n",
              "/* \"?\"-specific style due to the `<a>` HTML tag */\n",
              "\n",
              "#sk-container-id-13 a.estimator_doc_link {\n",
              "  float: right;\n",
              "  font-size: 1rem;\n",
              "  line-height: 1em;\n",
              "  font-family: monospace;\n",
              "  background-color: var(--sklearn-color-background);\n",
              "  border-radius: 1rem;\n",
              "  height: 1rem;\n",
              "  width: 1rem;\n",
              "  text-decoration: none;\n",
              "  /* unfitted */\n",
              "  color: var(--sklearn-color-unfitted-level-1);\n",
              "  border: var(--sklearn-color-unfitted-level-1) 1pt solid;\n",
              "}\n",
              "\n",
              "#sk-container-id-13 a.estimator_doc_link.fitted {\n",
              "  /* fitted */\n",
              "  border: var(--sklearn-color-fitted-level-1) 1pt solid;\n",
              "  color: var(--sklearn-color-fitted-level-1);\n",
              "}\n",
              "\n",
              "/* On hover */\n",
              "#sk-container-id-13 a.estimator_doc_link:hover {\n",
              "  /* unfitted */\n",
              "  background-color: var(--sklearn-color-unfitted-level-3);\n",
              "  color: var(--sklearn-color-background);\n",
              "  text-decoration: none;\n",
              "}\n",
              "\n",
              "#sk-container-id-13 a.estimator_doc_link.fitted:hover {\n",
              "  /* fitted */\n",
              "  background-color: var(--sklearn-color-fitted-level-3);\n",
              "}\n",
              "</style><div id=\"sk-container-id-13\" class=\"sk-top-container\"><div class=\"sk-text-repr-fallback\"><pre>SVC()</pre><b>In a Jupyter environment, please rerun this cell to show the HTML representation or trust the notebook. <br />On GitHub, the HTML representation is unable to render, please try loading this page with nbviewer.org.</b></div><div class=\"sk-container\" hidden><div class=\"sk-item\"><div class=\"sk-estimator fitted sk-toggleable\"><input class=\"sk-toggleable__control sk-hidden--visually\" id=\"sk-estimator-id-13\" type=\"checkbox\" checked><label for=\"sk-estimator-id-13\" class=\"sk-toggleable__label fitted sk-toggleable__label-arrow\"><div><div>SVC</div></div><div><a class=\"sk-estimator-doc-link fitted\" rel=\"noreferrer\" target=\"_blank\" href=\"https://scikit-learn.org/1.6/modules/generated/sklearn.svm.SVC.html\">?<span>Documentation for SVC</span></a><span class=\"sk-estimator-doc-link fitted\">i<span>Fitted</span></span></div></label><div class=\"sk-toggleable__content fitted\"><pre>SVC()</pre></div> </div></div></div></div>"
            ]
          },
          "metadata": {},
          "execution_count": 436
        }
      ]
    },
    {
      "cell_type": "code",
      "source": [
        "# Make predictions on the training and test data\n",
        "\n",
        "y_train_pred = model.predict(X_train_scaled)\n",
        "\n",
        "y_test_pred = model.predict(X_test_scaled)\n",
        "\n"
      ],
      "metadata": {
        "id": "JjnlvyqkhGfp"
      },
      "execution_count": 437,
      "outputs": []
    },
    {
      "cell_type": "code",
      "source": [
        "# Function to calculate metrics\n",
        "\n",
        "def calculate_metrics(y_true, y_pred):\n",
        "  cm = confusion_matrix(y_true, y_pred)\n",
        "  tn, fp, fn, tp = cm.ravel()\n",
        "  accuracy = accuracy_score(y_true, y_pred)\n",
        "  sensitivity = recall_score(y_true, y_pred)\n",
        "  specificity = tn / (tn + fp)\n",
        "  balanced_accuracy = balanced_accuracy_score(y_true, y_pred)\n",
        "  return accuracy, sensitivity, specificity, balanced_accuracy, cm"
      ],
      "metadata": {
        "id": "Bjs5iFPYhItJ"
      },
      "execution_count": 438,
      "outputs": []
    },
    {
      "cell_type": "code",
      "source": [
        "# Calculate metrics for training data\n",
        "\n",
        "train_accuracy, train_sensitivity, train_specificity, train_balanced_accuracy, train_cm = calculate_metrics(y_train_resampled, y_train_pred)\n",
        "\n",
        "print(f\"Training Accuracy: {train_accuracy}\")\n",
        "\n",
        "print(f\"Training Sensitivity: {train_sensitivity}\")\n",
        "\n",
        "print(f\"Training Specificity: {train_specificity}\")\n",
        "\n",
        "print(f\"Training Balanced Accuracy: {train_balanced_accuracy}\")\n",
        "\n",
        "print(\"Training Confusion Matrix:\")\n",
        "\n",
        "print(train_cm)"
      ],
      "metadata": {
        "colab": {
          "base_uri": "https://localhost:8080/"
        },
        "id": "VtyqLYKghQn8",
        "outputId": "a328b1ac-bf88-4b63-cdb1-db1bfeab96a0"
      },
      "execution_count": 439,
      "outputs": [
        {
          "output_type": "stream",
          "name": "stdout",
          "text": [
            "Training Accuracy: 0.899737302977233\n",
            "Training Sensitivity: 0.8879159369527145\n",
            "Training Specificity: 0.9115586690017513\n",
            "Training Balanced Accuracy: 0.8997373029772329\n",
            "Training Confusion Matrix:\n",
            "[[2082  202]\n",
            " [ 256 2028]]\n"
          ]
        }
      ]
    },
    {
      "cell_type": "code",
      "source": [
        "# Calculate metrics for test data\n",
        "\n",
        "test_accuracy, test_sensitivity, test_specificity, test_balanced_accuracy, test_cm = calculate_metrics(y_test, y_test_pred)\n",
        "\n",
        "print(f\"Test Accuracy: {test_accuracy}\")\n",
        "\n",
        "print(f\"Test Sensitivity: {test_sensitivity}\")\n",
        "\n",
        "print(f\"Test Specificity: {test_specificity}\")\n",
        "\n",
        "print(f\"Test Balanced Accuracy: {test_balanced_accuracy}\")\n",
        "\n",
        "print(\"Test Confusion Matrix:\")\n",
        "\n",
        "print(test_cm)\n",
        "\n"
      ],
      "metadata": {
        "colab": {
          "base_uri": "https://localhost:8080/"
        },
        "id": "ttgcyUHDhTXT",
        "outputId": "ab508887-bc80-4816-b499-a9272be12b1e"
      },
      "execution_count": 440,
      "outputs": [
        {
          "output_type": "stream",
          "name": "stdout",
          "text": [
            "Test Accuracy: 0.8575712143928036\n",
            "Test Sensitivity: 0.6732673267326733\n",
            "Test Specificity: 0.8904593639575972\n",
            "Test Balanced Accuracy: 0.7818633453451352\n",
            "Test Confusion Matrix:\n",
            "[[504  62]\n",
            " [ 33  68]]\n"
          ]
        }
      ]
    }
  ]
}